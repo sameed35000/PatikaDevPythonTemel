{
 "cells": [
  {
   "cell_type": "markdown",
   "id": "d380827d-6098-4366-b113-db1cb246006f",
   "metadata": {},
   "source": [
    "1- Bir listeyi düzleştiren (flatten) fonksiyon yazın. Elemanları birden çok katmanlı listelerden ([[3],2] gibi) oluşabileceği gibi, non-scalar verilerden de oluşabilir. Örnek olarak:\n",
    "\n",
    "input: [[1,'a',['cat'],2],[[[3]],'dog'],4,5]\n",
    "\n",
    "output: [1,'a','cat',2,3,'dog',4,5]"
   ]
  },
  {
   "cell_type": "code",
   "execution_count": 3,
   "id": "51c5c6e9-fc02-42a3-ad90-5c4988fc4c01",
   "metadata": {},
   "outputs": [
    {
     "name": "stdout",
     "output_type": "stream",
     "text": [
      "[1, 'a', 'cat', 2, 3, 'dog', 4, 5]\n"
     ]
    }
   ],
   "source": [
    "def flatten_list(in_list, out_list):\n",
    "    for item in in_list:\n",
    "        if type(item) is list:\n",
    "            flatten_list(item, out_list)\n",
    "        else:\n",
    "            out_list.append(item)\n",
    "l=[[1,'a',['cat'],2],[[[3]],'dog'],4,5]\n",
    "o=[]\n",
    "flatten_list(l, o)\n",
    "print(o)"
   ]
  },
  {
   "cell_type": "code",
   "execution_count": 6,
   "id": "81ff2db1-1720-4465-acfa-6bbb339fea18",
   "metadata": {},
   "outputs": [
    {
     "name": "stdout",
     "output_type": "stream",
     "text": [
      "[[7, 6, 5], [4, 3], [2, 1]]\n"
     ]
    }
   ],
   "source": [
    "def ters_list(in_list, out_list):\n",
    "    for i in in_list:\n",
    "        if type(i) is list:\n",
    "            i=i[::-1]\n",
    "            out_list.append(i)\n",
    "        else:\n",
    "            out_list.append(i)\n",
    "\n",
    "liste=[[1, 2], [3, 4], [5, 6, 7]]\n",
    "ters_liste=[]\n",
    "ters_list(liste, ters_liste)\n",
    "ters_liste=ters_liste[::-1]\n",
    "print(ters_liste)\n"
   ]
  },
  {
   "cell_type": "code",
   "execution_count": 5,
   "id": "ef35e702-234b-4684-aea3-11a2cd166025",
   "metadata": {},
   "outputs": [
    {
     "name": "stdout",
     "output_type": "stream",
     "text": [
      "[[7, 6, 5], [4, 3], [2, 1]]\n"
     ]
    }
   ],
   "source": [
    "liste=[[1, 2], [3, 4], [5, 6, 7]]\n",
    "ters_liste=[]\n",
    "ters_list(liste, ters_liste)\n",
    "ters_liste=ters_liste[::-1]\n",
    "print(ters_liste)"
   ]
  },
  {
   "cell_type": "code",
   "execution_count": null,
   "id": "225831c1-fc29-4c69-9aa9-6ae49fdea935",
   "metadata": {},
   "outputs": [],
   "source": []
  }
 ],
 "metadata": {
  "kernelspec": {
   "display_name": "Python 3 (ipykernel)",
   "language": "python",
   "name": "python3"
  },
  "language_info": {
   "codemirror_mode": {
    "name": "ipython",
    "version": 3
   },
   "file_extension": ".py",
   "mimetype": "text/x-python",
   "name": "python",
   "nbconvert_exporter": "python",
   "pygments_lexer": "ipython3",
   "version": "3.10.8"
  }
 },
 "nbformat": 4,
 "nbformat_minor": 5
}
